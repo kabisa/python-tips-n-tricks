{
 "cells": [
  {
   "cell_type": "markdown",
   "metadata": {},
   "source": [
    "# Factory pattern\n",
    "\n",
    "In other languages you might have to create a factory class that does a big case statement. In Python there is a better way."
   ]
  },
  {
   "cell_type": "code",
   "execution_count": 4,
   "metadata": {},
   "outputs": [],
   "source": [
    "class Foo:\n",
    "    def __init__(self, a):\n",
    "        self.a = a\n",
    "\n",
    "\n",
    "class Bar:\n",
    "    def __init__(self, a):\n",
    "        self.a = a\n",
    "    \n",
    "    \n",
    "MyClasses = {\n",
    "    'Foo': Foo,\n",
    "    'Bar': Bar\n",
    "}\n",
    "\n",
    "\n",
    "def create_class(name, a):\n",
    "    return MyClasses[name](a)"
   ]
  },
  {
   "cell_type": "code",
   "execution_count": 5,
   "metadata": {},
   "outputs": [
    {
     "name": "stdout",
     "output_type": "stream",
     "text": [
      "1\n"
     ]
    }
   ],
   "source": [
    "foo = create_class('Foo', 1)\n",
    "print(foo.a)"
   ]
  },
  {
   "cell_type": "code",
   "execution_count": null,
   "metadata": {},
   "outputs": [],
   "source": []
  }
 ],
 "metadata": {
  "kernelspec": {
   "display_name": "Python 3",
   "language": "python",
   "name": "python3"
  },
  "language_info": {
   "codemirror_mode": {
    "name": "ipython",
    "version": 3
   },
   "file_extension": ".py",
   "mimetype": "text/x-python",
   "name": "python",
   "nbconvert_exporter": "python",
   "pygments_lexer": "ipython3",
   "version": "3.7.3"
  }
 },
 "nbformat": 4,
 "nbformat_minor": 2
}
