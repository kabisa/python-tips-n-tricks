{
 "cells": [
  {
   "cell_type": "markdown",
   "metadata": {},
   "source": [
    "## chunks"
   ]
  },
  {
   "cell_type": "code",
   "execution_count": 10,
   "metadata": {},
   "outputs": [
    {
     "data": {
      "text/plain": [
       "[[1, 2], [3, 4], [5, 6], [7, 8], [9, 0]]"
      ]
     },
     "execution_count": 10,
     "metadata": {},
     "output_type": "execute_result"
    }
   ],
   "source": [
    "def chunks(l, n):\n",
    "    \"\"\" \n",
    "    Yield successive n-sized chunks from l.\n",
    "    \"\"\"\n",
    "    if n <= 0:\n",
    "        raise Exception(f'Cannot devide into chunks of {n} size')\n",
    "    for i in range(0, len(l), n):\n",
    "        yield l[i:i + n]\n",
    "\n",
    "        \n",
    "list(chunks([1,2,3,4,5,6,7,8,9,0], 2))"
   ]
  },
  {
   "cell_type": "markdown",
   "metadata": {},
   "source": [
    "## pick random from list"
   ]
  },
  {
   "cell_type": "code",
   "execution_count": 13,
   "metadata": {},
   "outputs": [
    {
     "data": {
      "text/plain": [
       "3"
      ]
     },
     "execution_count": 13,
     "metadata": {},
     "output_type": "execute_result"
    }
   ],
   "source": [
    "import random\n",
    "\n",
    "random.choice([2,3,4])"
   ]
  },
  {
   "cell_type": "markdown",
   "metadata": {},
   "source": [
    "## random uuid"
   ]
  },
  {
   "cell_type": "code",
   "execution_count": 15,
   "metadata": {},
   "outputs": [
    {
     "data": {
      "text/plain": [
       "UUID('a913f8bd-cd1b-406c-8d4d-ca2d5b58152a')"
      ]
     },
     "execution_count": 15,
     "metadata": {},
     "output_type": "execute_result"
    }
   ],
   "source": [
    "import uuid\n",
    "\n",
    "uuid.uuid4()"
   ]
  },
  {
   "cell_type": "markdown",
   "metadata": {},
   "source": [
    "## aggregations\n",
    "\n",
    "and picking a function from a dict "
   ]
  },
  {
   "cell_type": "code",
   "execution_count": 16,
   "metadata": {},
   "outputs": [
    {
     "data": {
      "text/plain": [
       "6"
      ]
     },
     "execution_count": 16,
     "metadata": {},
     "output_type": "execute_result"
    }
   ],
   "source": [
    "def avg(itrbl):\n",
    "    lst = []\n",
    "    for val in itrbl:\n",
    "        lst.append(val)\n",
    "    if lst:\n",
    "        return sum(lst) / len(lst)\n",
    "    else:\n",
    "        return None\n",
    "\n",
    "\n",
    "aggregators = {\n",
    "   'sum': sum,\n",
    "   'min': min,\n",
    "   'max': max,\n",
    "   'cnt': len,\n",
    "   'avg': avg\n",
    "}\n",
    "\n",
    "aggregators['sum']([1, 2, 3])"
   ]
  },
  {
   "cell_type": "markdown",
   "metadata": {},
   "source": [
    "## named tuple to dict"
   ]
  },
  {
   "cell_type": "code",
   "execution_count": 1,
   "metadata": {},
   "outputs": [
    {
     "name": "stdout",
     "output_type": "stream",
     "text": [
      "Point(x=2, y=4)\n"
     ]
    },
    {
     "data": {
      "text/plain": [
       "{'x': 2, 'y': 4}"
      ]
     },
     "execution_count": 1,
     "metadata": {},
     "output_type": "execute_result"
    }
   ],
   "source": [
    "from collections import namedtuple\n",
    "\n",
    "def named_tuple_to_dict(nmd_tup):\n",
    "    \"\"\"\n",
    "    Documented feature: \n",
    "    https://docs.python.org/2/library/collections.html#collections.somenamedtuple._fields\n",
    "    \"\"\"\n",
    "    output = {}\n",
    "    for att in nmd_tup._fields:\n",
    "        output[att] = getattr(nmd_tup, att)\n",
    "    return output\n",
    "\n",
    "Point = namedtuple('Point', ['x', 'y'])\n",
    "\n",
    "pt = Point(2, 4)\n",
    "print(pt)\n",
    "named_tuple_to_dict(pt)"
   ]
  },
  {
   "cell_type": "markdown",
   "metadata": {},
   "source": [
    "## functools.partial"
   ]
  },
  {
   "cell_type": "code",
   "execution_count": 3,
   "metadata": {},
   "outputs": [],
   "source": [
    "#equivalent:\n",
    "int('101010', base=2)\n",
    "\n",
    "from functools import partial\n",
    "base_two = partial(int, base=2)\n",
    "base_two.__doc__ = 'Convert base 2 string to an int.'"
   ]
  },
  {
   "cell_type": "code",
   "execution_count": 5,
   "metadata": {},
   "outputs": [
    {
     "data": {
      "text/plain": [
       "42"
      ]
     },
     "execution_count": 5,
     "metadata": {},
     "output_type": "execute_result"
    }
   ],
   "source": [
    "base_two('101010')"
   ]
  }
 ],
 "metadata": {
  "kernelspec": {
   "display_name": "Python 3",
   "language": "python",
   "name": "python3"
  },
  "language_info": {
   "codemirror_mode": {
    "name": "ipython",
    "version": 3
   },
   "file_extension": ".py",
   "mimetype": "text/x-python",
   "name": "python",
   "nbconvert_exporter": "python",
   "pygments_lexer": "ipython3",
   "version": "3.7.3"
  }
 },
 "nbformat": 4,
 "nbformat_minor": 2
}
