{
 "cells": [
  {
   "cell_type": "markdown",
   "metadata": {},
   "source": [
    "# Data Classes"
   ]
  },
  {
   "cell_type": "code",
   "execution_count": 2,
   "metadata": {},
   "outputs": [],
   "source": [
    "from dataclasses import dataclass, FrozenInstanceError, field"
   ]
  },
  {
   "cell_type": "code",
   "execution_count": 5,
   "metadata": {},
   "outputs": [],
   "source": [
    "@dataclass\n",
    "class Person:\n",
    "    # Declare the fields here, the __init__ function is \"generated\"\n",
    "\n",
    "    name: str\n",
    "    age: int\n"
   ]
  },
  {
   "cell_type": "code",
   "execution_count": 10,
   "metadata": {},
   "outputs": [
    {
     "name": "stdout",
     "output_type": "stream",
     "text": [
      "Person(name='Sjuul', age=34)\n",
      "True\n",
      "False\n"
     ]
    }
   ],
   "source": [
    "me = Person('Sjuul', 34)\n",
    "print(me)\n",
    "me2 = Person('Sjuul', 34)\n",
    "# a compare function has been generated as well\n",
    "print(me == me2)\n",
    "print(me == Person('Someone', 30))"
   ]
  },
  {
   "cell_type": "markdown",
   "metadata": {},
   "source": [
    "## decorator settings\n",
    "\n",
    "this is equivalent to the class above"
   ]
  },
  {
   "cell_type": "code",
   "execution_count": 11,
   "metadata": {},
   "outputs": [],
   "source": [
    "@dataclass(repr=True, eq=True, order=False, unsafe_hash=False, frozen=False)\n",
    "class Person:\n",
    "\n",
    "    name: str\n",
    "    age: int \n",
    "        "
   ]
  },
  {
   "cell_type": "markdown",
   "metadata": {},
   "source": [
    "this is how you could implement this"
   ]
  },
  {
   "cell_type": "code",
   "execution_count": 12,
   "metadata": {},
   "outputs": [],
   "source": [
    "class MyPerson:\n",
    "\n",
    "    def __init__(self, name: str, age: int):\n",
    "        self.name = name\n",
    "        self.age = age\n",
    "\n",
    "    def __repr__(self):\n",
    "        return f'Person(name={self.name}, age={self.age})'\n",
    "\n",
    "    __str__ = __repr__\n",
    "\n",
    "    def __eq__(self, other):\n",
    "        if other.__class__ is not self.__class__:\n",
    "            return NotImplemented\n",
    "        return self.name == other.name and self.age == other.age"
   ]
  },
  {
   "cell_type": "markdown",
   "metadata": {},
   "source": [
    "## Post init\n",
    "Sometimes you don't really wont to write a full init function but still like to do some logic"
   ]
  },
  {
   "cell_type": "code",
   "execution_count": 6,
   "metadata": {},
   "outputs": [],
   "source": [
    "class InvalidAge(Exception):\n",
    "    pass\n",
    "\n",
    "# we could use this\n",
    "@dataclass\n",
    "class Person:\n",
    "\n",
    "    name: str\n",
    "    age: int\n",
    "\n",
    "    def __post_init__(self):\n",
    "        # here we do some age validation\n",
    "        if self.age < 0:\n",
    "            raise InvalidAge(f'Age: {self.age} Are you sure?')"
   ]
  },
  {
   "cell_type": "markdown",
   "metadata": {},
   "source": [
    "Lets test by creating an invalid person"
   ]
  },
  {
   "cell_type": "code",
   "execution_count": 8,
   "metadata": {},
   "outputs": [
    {
     "data": {
      "text/plain": [
       "Person(name='Invalid person', age=1)"
      ]
     },
     "execution_count": 8,
     "metadata": {},
     "output_type": "execute_result"
    }
   ],
   "source": [
    "Person('Invalid person', 1)"
   ]
  },
  {
   "cell_type": "markdown",
   "metadata": {},
   "source": [
    "## Frozen\n",
    "Lets have some immutability"
   ]
  },
  {
   "cell_type": "code",
   "execution_count": 15,
   "metadata": {},
   "outputs": [
    {
     "name": "stdout",
     "output_type": "stream",
     "text": [
      "sry cannot mutate age\n"
     ]
    }
   ],
   "source": [
    "@dataclass(frozen=True)\n",
    "class Person:\n",
    "\n",
    "    name: str\n",
    "    age: int\n",
    "        \n",
    "me = Person('Sjuul', 34)\n",
    "\n",
    "try:\n",
    "    me.age += 1\n",
    "except FrozenInstanceError:\n",
    "    print('sry cannot mutate age')"
   ]
  },
  {
   "cell_type": "markdown",
   "metadata": {},
   "source": [
    "## Sorting"
   ]
  },
  {
   "cell_type": "code",
   "execution_count": 14,
   "metadata": {},
   "outputs": [
    {
     "name": "stdout",
     "output_type": "stream",
     "text": [
      "[OrderablePerson(name='aaa', age=38), OrderablePerson(name='bbb', age=36), OrderablePerson(name='bbb', age=37)]\n",
      "{'name': 'bbb', 'age': 36}\n"
     ]
    }
   ],
   "source": [
    "@dataclass(order=True)\n",
    "class OrderablePerson:\n",
    "\n",
    "    name: str\n",
    "    age: int\n",
    "\n",
    "aaa = OrderablePerson(name='aaa', age=38)\n",
    "bbb = OrderablePerson(name='bbb', age=36)\n",
    "ccc = OrderablePerson(name='bbb', age=37)\n",
    "\n",
    "# note that I've put bbb first\n",
    "print(sorted([bbb, aaa, ccc]))\n",
    "print(bbb.__dict__)"
   ]
  },
  {
   "cell_type": "markdown",
   "metadata": {},
   "source": [
    "## Defaults\n"
   ]
  },
  {
   "cell_type": "code",
   "execution_count": 13,
   "metadata": {},
   "outputs": [],
   "source": [
    "from typing import List\n",
    "\n",
    "@dataclass\n",
    "class PersonWithDefaultAge:\n",
    "\n",
    "    name: str\n",
    "    age: int = field(default=0)\n",
    "    pets: List[str] = field(default_factory=lambda: [])"
   ]
  },
  {
   "cell_type": "code",
   "execution_count": 14,
   "metadata": {},
   "outputs": [
    {
     "data": {
      "text/plain": [
       "PersonWithDefaultAge(name='Someone', age=0, pets=[])"
      ]
     },
     "execution_count": 14,
     "metadata": {},
     "output_type": "execute_result"
    }
   ],
   "source": [
    "PersonWithDefaultAge('Someone')"
   ]
  },
  {
   "cell_type": "markdown",
   "metadata": {},
   "source": [
    "## Btw beware of mutable objects as default values"
   ]
  },
  {
   "cell_type": "code",
   "execution_count": 16,
   "metadata": {},
   "outputs": [
    {
     "name": "stdout",
     "output_type": "stream",
     "text": [
      "['.']\n",
      "['.', '.']\n",
      "['.', '.', '.']\n"
     ]
    }
   ],
   "source": [
    "def foo(bar=[]):\n",
    "    # this function has side-effects\n",
    "    bar.append('.')\n",
    "    print(bar)\n",
    "    \n",
    "foo()\n",
    "foo()\n",
    "foo()\n"
   ]
  },
  {
   "cell_type": "code",
   "execution_count": 17,
   "metadata": {},
   "outputs": [
    {
     "name": "stdout",
     "output_type": "stream",
     "text": [
      "['.']\n",
      "['.']\n",
      "['.']\n"
     ]
    }
   ],
   "source": [
    "# better do this:\n",
    "def foo(bar=None):\n",
    "    if bar is None:\n",
    "        bar = []\n",
    "    bar.append('.')\n",
    "    print(bar)\n",
    "    \n",
    "foo()\n",
    "foo()\n",
    "foo()\n"
   ]
  },
  {
   "cell_type": "code",
   "execution_count": null,
   "metadata": {},
   "outputs": [],
   "source": []
  }
 ],
 "metadata": {
  "kernelspec": {
   "display_name": "Python 3",
   "language": "python",
   "name": "python3"
  },
  "language_info": {
   "codemirror_mode": {
    "name": "ipython",
    "version": 3
   },
   "file_extension": ".py",
   "mimetype": "text/x-python",
   "name": "python",
   "nbconvert_exporter": "python",
   "pygments_lexer": "ipython3",
   "version": "3.7.3"
  }
 },
 "nbformat": 4,
 "nbformat_minor": 2
}
