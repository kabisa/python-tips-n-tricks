{
 "cells": [
  {
   "cell_type": "markdown",
   "metadata": {},
   "source": [
    "# psutil"
   ]
  },
  {
   "cell_type": "code",
   "execution_count": 1,
   "metadata": {},
   "outputs": [],
   "source": [
    "import os\n",
    "import psutil"
   ]
  },
  {
   "cell_type": "code",
   "execution_count": 2,
   "metadata": {},
   "outputs": [
    {
     "data": {
      "text/plain": [
       "1554713344.0"
      ]
     },
     "execution_count": 2,
     "metadata": {},
     "output_type": "execute_result"
    }
   ],
   "source": [
    "psutil.boot_time()"
   ]
  },
  {
   "cell_type": "code",
   "execution_count": 3,
   "metadata": {},
   "outputs": [
    {
     "data": {
      "text/plain": [
       "7.2"
      ]
     },
     "execution_count": 3,
     "metadata": {},
     "output_type": "execute_result"
    }
   ],
   "source": [
    "psutil.cpu_percent()"
   ]
  },
  {
   "cell_type": "code",
   "execution_count": 4,
   "metadata": {},
   "outputs": [
    {
     "data": {
      "text/plain": [
       "[9.0, 1.0, 10.0, 1.0, 8.0, 0.0, 8.1, 0.0]"
      ]
     },
     "execution_count": 4,
     "metadata": {},
     "output_type": "execute_result"
    }
   ],
   "source": [
    "psutil.cpu_percent(interval=1, percpu=True)"
   ]
  },
  {
   "cell_type": "code",
   "execution_count": 5,
   "metadata": {},
   "outputs": [
    {
     "data": {
      "text/plain": [
       "svmem(total=17179869184, available=6115356672, percent=64.4, used=10430693376, free=130482176, active=7731855360, inactive=5958021120, wired=2698838016)"
      ]
     },
     "execution_count": 5,
     "metadata": {},
     "output_type": "execute_result"
    }
   ],
   "source": [
    "psutil.virtual_memory()"
   ]
  },
  {
   "cell_type": "code",
   "execution_count": 6,
   "metadata": {},
   "outputs": [
    {
     "data": {
      "text/plain": [
       "[suser(name='sjuuljanssen', terminal='console', host=None, started=1554713344.0, pid=92),\n",
       " suser(name='sjuuljanssen', terminal='ttys000', host=None, started=1554713344.0, pid=364),\n",
       " suser(name='sjuuljanssen', terminal='ttys004', host=None, started=1554725376.0, pid=4721)]"
      ]
     },
     "execution_count": 6,
     "metadata": {},
     "output_type": "execute_result"
    }
   ],
   "source": [
    "psutil.users()"
   ]
  },
  {
   "cell_type": "code",
   "execution_count": 7,
   "metadata": {},
   "outputs": [
    {
     "data": {
      "text/plain": [
       "[psutil.Process(pid=9165, name='python3.7', started='20:15:28'),\n",
       " psutil.Process(pid=9173, name='python3.7', started='20:15:53'),\n",
       " psutil.Process(pid=9301, name='python3.7', started='20:24:27'),\n",
       " psutil.Process(pid=9425, name='python3.7', started='20:31:02'),\n",
       " psutil.Process(pid=9547, name='python3.7', started='20:38:47'),\n",
       " psutil.Process(pid=9621, name='python3.7', started='20:42:20'),\n",
       " psutil.Process(pid=9689, name='python3.7', started='20:45:56'),\n",
       " psutil.Process(pid=9754, name='python3.7', started='20:50:14'),\n",
       " psutil.Process(pid=10012, name='python3.7', started='21:09:34'),\n",
       " psutil.Process(pid=10153, name='python3.7', started='21:19:31')]"
      ]
     },
     "execution_count": 7,
     "metadata": {},
     "output_type": "execute_result"
    }
   ],
   "source": [
    "proc = psutil.Process(os.getpid())\n",
    "parent_proc = psutil.Process(proc.ppid())\n",
    "parent_proc.children(recursive=True)"
   ]
  },
  {
   "cell_type": "code",
   "execution_count": null,
   "metadata": {},
   "outputs": [],
   "source": []
  }
 ],
 "metadata": {
  "kernelspec": {
   "display_name": "Python 3",
   "language": "python",
   "name": "python3"
  },
  "language_info": {
   "codemirror_mode": {
    "name": "ipython",
    "version": 3
   },
   "file_extension": ".py",
   "mimetype": "text/x-python",
   "name": "python",
   "nbconvert_exporter": "python",
   "pygments_lexer": "ipython3",
   "version": "3.7.3"
  }
 },
 "nbformat": 4,
 "nbformat_minor": 2
}
