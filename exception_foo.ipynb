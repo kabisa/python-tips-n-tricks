{
 "cells": [
  {
   "cell_type": "markdown",
   "metadata": {},
   "source": [
    "# Exception foo"
   ]
  },
  {
   "cell_type": "code",
   "execution_count": 6,
   "metadata": {},
   "outputs": [],
   "source": [
    "import inspect\n",
    "from traceback import format_exc\n",
    "\n",
    "\n",
    "def get_calling_function_name():\n",
    "    stack = inspect.stack()\n",
    "    fun_name = stack[2].function\n",
    "    return fun_name\n",
    "\n",
    "\n",
    "def div_by(inp):\n",
    "    try:\n",
    "        1 / inp\n",
    "    except ZeroDivisionError:\n",
    "        exc_msg = format_exc()\n",
    "        print('something happened\\n')\n",
    "        print(exc_msg)\n",
    "        calling_function = get_calling_function_name()\n",
    "        print(f'I was called by \"{calling_function}\"')"
   ]
  },
  {
   "cell_type": "code",
   "execution_count": 7,
   "metadata": {},
   "outputs": [],
   "source": [
    "def main():\n",
    "    div_by(0)"
   ]
  },
  {
   "cell_type": "code",
   "execution_count": 8,
   "metadata": {},
   "outputs": [
    {
     "name": "stdout",
     "output_type": "stream",
     "text": [
      "something happened\n",
      "\n",
      "Traceback (most recent call last):\n",
      "  File \"<ipython-input-6-96d970a75d50>\", line 13, in div_by\n",
      "    1 / inp\n",
      "ZeroDivisionError: division by zero\n",
      "\n",
      "I was called by \"main\"\n"
     ]
    }
   ],
   "source": [
    "main()"
   ]
  },
  {
   "cell_type": "code",
   "execution_count": 2,
   "metadata": {},
   "outputs": [],
   "source": [
    "from contextlib import suppress\n",
    "\n",
    "with suppress(IOError):\n",
    "    with open('this_file_does_not_exist.txt') as fl:\n",
    "        print(fl.read())"
   ]
  },
  {
   "cell_type": "markdown",
   "metadata": {},
   "source": [
    "this is equivalent to"
   ]
  },
  {
   "cell_type": "code",
   "execution_count": 5,
   "metadata": {},
   "outputs": [],
   "source": [
    "try:\n",
    "    with open('this_file_does_not_exist.txt') as fl:\n",
    "        print(fl.read())\n",
    "except IOError:\n",
    "    pass"
   ]
  },
  {
   "cell_type": "code",
   "execution_count": null,
   "metadata": {},
   "outputs": [],
   "source": []
  }
 ],
 "metadata": {
  "kernelspec": {
   "display_name": "Python 3",
   "language": "python",
   "name": "python3"
  },
  "language_info": {
   "codemirror_mode": {
    "name": "ipython",
    "version": 3
   },
   "file_extension": ".py",
   "mimetype": "text/x-python",
   "name": "python",
   "nbconvert_exporter": "python",
   "pygments_lexer": "ipython3",
   "version": "3.7.3"
  }
 },
 "nbformat": 4,
 "nbformat_minor": 2
}
