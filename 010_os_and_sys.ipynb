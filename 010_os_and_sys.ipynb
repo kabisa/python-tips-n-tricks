{
 "cells": [
  {
   "cell_type": "markdown",
   "metadata": {},
   "source": [
    "# os and sys"
   ]
  },
  {
   "cell_type": "code",
   "execution_count": 15,
   "metadata": {},
   "outputs": [
    {
     "data": {
      "text/plain": [
       "'Darwin'"
      ]
     },
     "execution_count": 15,
     "metadata": {},
     "output_type": "execute_result"
    }
   ],
   "source": [
    "import platform\n",
    "platform.system()"
   ]
  },
  {
   "cell_type": "code",
   "execution_count": 16,
   "metadata": {},
   "outputs": [
    {
     "name": "stdout",
     "output_type": "stream",
     "text": [
      "{'distroName': '10.14.6', 'distroVersionID': ('', '', ''), 'distroVersionName': 'x86_64'}\n"
     ]
    }
   ],
   "source": [
    "import sys\n",
    "\n",
    "IS_LINUX = sys.platform.startswith('linux')\n",
    "IS_DARWIN = sys.platform.startswith('darwin')\n",
    "IS_WIN = sys.platform.startswith('win')\n",
    "\n",
    "if IS_LINUX:\n",
    "    details = platform.linux_distribution()\n",
    "elif IS_DARWIN:\n",
    "    details = platform.mac_ver()\n",
    "elif IS_WIN:\n",
    "    details = platform.win32_ver()\n",
    "\n",
    "print({\n",
    "    'distroName': details[0],\n",
    "    'distroVersionID': details[1],\n",
    "    'distroVersionName': details[2]\n",
    "})"
   ]
  },
  {
   "cell_type": "markdown",
   "metadata": {},
   "source": [
    "## print to file "
   ]
  },
  {
   "cell_type": "code",
   "execution_count": 17,
   "metadata": {},
   "outputs": [
    {
     "name": "stderr",
     "output_type": "stream",
     "text": [
      "hello error\n"
     ]
    }
   ],
   "source": [
    "print('hello error', file=sys.stderr)"
   ]
  },
  {
   "cell_type": "markdown",
   "metadata": {},
   "source": [
    "## abspath"
   ]
  },
  {
   "cell_type": "code",
   "execution_count": 18,
   "metadata": {},
   "outputs": [
    {
     "data": {
      "text/plain": [
       "'/Users/sjuuljanssen/workspace/python_tips_n_tricks/sample.txt'"
      ]
     },
     "execution_count": 18,
     "metadata": {},
     "output_type": "execute_result"
    }
   ],
   "source": [
    "sample_fl = os.path.abspath('sample.txt')\n",
    "sample_fl"
   ]
  },
  {
   "cell_type": "markdown",
   "metadata": {},
   "source": [
    "## file/dir exists?"
   ]
  },
  {
   "cell_type": "code",
   "execution_count": 19,
   "metadata": {},
   "outputs": [
    {
     "data": {
      "text/plain": [
       "True"
      ]
     },
     "execution_count": 19,
     "metadata": {},
     "output_type": "execute_result"
    }
   ],
   "source": [
    "import os\n",
    "os.path.exists(sample_fl)"
   ]
  },
  {
   "cell_type": "code",
   "execution_count": 20,
   "metadata": {},
   "outputs": [
    {
     "data": {
      "text/plain": [
       "True"
      ]
     },
     "execution_count": 20,
     "metadata": {},
     "output_type": "execute_result"
    }
   ],
   "source": [
    "os.path.isfile(sample_fl)"
   ]
  },
  {
   "cell_type": "code",
   "execution_count": 21,
   "metadata": {},
   "outputs": [
    {
     "data": {
      "text/plain": [
       "False"
      ]
     },
     "execution_count": 21,
     "metadata": {},
     "output_type": "execute_result"
    }
   ],
   "source": [
    "os.path.isdir(sample_fl)"
   ]
  },
  {
   "cell_type": "markdown",
   "metadata": {},
   "source": [
    "## path"
   ]
  },
  {
   "cell_type": "code",
   "execution_count": 17,
   "metadata": {},
   "outputs": [
    {
     "data": {
      "text/plain": [
       "['/Users/sjuuljanssen/workspace/python_tips_n_tricks',\n",
       " '/Users/sjuuljanssen/.local/share/virtualenvs/python_tips_n_tricks-aPH4icQ0/lib/python37.zip',\n",
       " '/Users/sjuuljanssen/.local/share/virtualenvs/python_tips_n_tricks-aPH4icQ0/lib/python3.7',\n",
       " '/Users/sjuuljanssen/.local/share/virtualenvs/python_tips_n_tricks-aPH4icQ0/lib/python3.7/lib-dynload',\n",
       " '/usr/local/Cellar/python/3.7.3/Frameworks/Python.framework/Versions/3.7/lib/python3.7',\n",
       " '',\n",
       " '/Users/sjuuljanssen/.local/share/virtualenvs/python_tips_n_tricks-aPH4icQ0/lib/python3.7/site-packages',\n",
       " '/Users/sjuuljanssen/.local/share/virtualenvs/python_tips_n_tricks-aPH4icQ0/lib/python3.7/site-packages/IPython/extensions',\n",
       " '/Users/sjuuljanssen/.ipython']"
      ]
     },
     "execution_count": 17,
     "metadata": {},
     "output_type": "execute_result"
    }
   ],
   "source": [
    "import sys\n",
    "sys.path"
   ]
  },
  {
   "cell_type": "code",
   "execution_count": 18,
   "metadata": {},
   "outputs": [],
   "source": [
    "sys.path.insert(0, '/tmp/something/')"
   ]
  },
  {
   "cell_type": "code",
   "execution_count": 19,
   "metadata": {},
   "outputs": [
    {
     "data": {
      "text/plain": [
       "['/tmp/something/',\n",
       " '/Users/sjuuljanssen/workspace/python_tips_n_tricks',\n",
       " '/Users/sjuuljanssen/.local/share/virtualenvs/python_tips_n_tricks-aPH4icQ0/lib/python37.zip',\n",
       " '/Users/sjuuljanssen/.local/share/virtualenvs/python_tips_n_tricks-aPH4icQ0/lib/python3.7',\n",
       " '/Users/sjuuljanssen/.local/share/virtualenvs/python_tips_n_tricks-aPH4icQ0/lib/python3.7/lib-dynload',\n",
       " '/usr/local/Cellar/python/3.7.3/Frameworks/Python.framework/Versions/3.7/lib/python3.7',\n",
       " '',\n",
       " '/Users/sjuuljanssen/.local/share/virtualenvs/python_tips_n_tricks-aPH4icQ0/lib/python3.7/site-packages',\n",
       " '/Users/sjuuljanssen/.local/share/virtualenvs/python_tips_n_tricks-aPH4icQ0/lib/python3.7/site-packages/IPython/extensions',\n",
       " '/Users/sjuuljanssen/.ipython']"
      ]
     },
     "execution_count": 19,
     "metadata": {},
     "output_type": "execute_result"
    }
   ],
   "source": [
    "sys.path"
   ]
  },
  {
   "cell_type": "code",
   "execution_count": 20,
   "metadata": {},
   "outputs": [
    {
     "data": {
      "text/plain": [
       "'/Users/sjuuljanssen/workspace/python_tips_n_tricks/subdir'"
      ]
     },
     "execution_count": 20,
     "metadata": {},
     "output_type": "execute_result"
    }
   ],
   "source": [
    "os.path.join(os.getcwd(), 'subdir', 'subsubdir')"
   ]
  },
  {
   "cell_type": "markdown",
   "metadata": {},
   "source": [
    "## cwd"
   ]
  },
  {
   "cell_type": "code",
   "execution_count": 21,
   "metadata": {},
   "outputs": [
    {
     "data": {
      "text/plain": [
       "'/Users/sjuuljanssen/workspace/python_tips_n_tricks'"
      ]
     },
     "execution_count": 21,
     "metadata": {},
     "output_type": "execute_result"
    }
   ],
   "source": [
    "os.getcwd()"
   ]
  },
  {
   "cell_type": "markdown",
   "metadata": {},
   "source": [
    "## pid"
   ]
  },
  {
   "cell_type": "code",
   "execution_count": 3,
   "metadata": {},
   "outputs": [
    {
     "data": {
      "text/plain": [
       "16497"
      ]
     },
     "execution_count": 3,
     "metadata": {},
     "output_type": "execute_result"
    }
   ],
   "source": [
    "os.getpid()"
   ]
  },
  {
   "cell_type": "markdown",
   "metadata": {},
   "source": [
    "## environment"
   ]
  },
  {
   "cell_type": "code",
   "execution_count": 11,
   "metadata": {},
   "outputs": [],
   "source": [
    "os.environ"
   ]
  },
  {
   "cell_type": "code",
   "execution_count": 24,
   "metadata": {},
   "outputs": [
    {
     "data": {
      "text/plain": [
       "'/'"
      ]
     },
     "execution_count": 24,
     "metadata": {},
     "output_type": "execute_result"
    }
   ],
   "source": [
    "os.sep"
   ]
  },
  {
   "cell_type": "code",
   "execution_count": 25,
   "metadata": {},
   "outputs": [
    {
     "data": {
      "text/plain": [
       "':'"
      ]
     },
     "execution_count": 25,
     "metadata": {},
     "output_type": "execute_result"
    }
   ],
   "source": [
    "os.pathsep"
   ]
  },
  {
   "cell_type": "code",
   "execution_count": null,
   "metadata": {},
   "outputs": [],
   "source": []
  }
 ],
 "metadata": {
  "kernelspec": {
   "display_name": "Python 3",
   "language": "python",
   "name": "python3"
  },
  "language_info": {
   "codemirror_mode": {
    "name": "ipython",
    "version": 3
   },
   "file_extension": ".py",
   "mimetype": "text/x-python",
   "name": "python",
   "nbconvert_exporter": "python",
   "pygments_lexer": "ipython3",
   "version": "3.7.3"
  }
 },
 "nbformat": 4,
 "nbformat_minor": 2
}
