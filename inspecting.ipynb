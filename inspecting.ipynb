{
 "cells": [
  {
   "cell_type": "markdown",
   "metadata": {},
   "source": [
    "# inspecting"
   ]
  },
  {
   "cell_type": "code",
   "execution_count": 9,
   "metadata": {},
   "outputs": [
    {
     "data": {
      "text/plain": [
       "FullArgSpec(args=['param1'], varargs='args', varkw='kwargs', defaults=None, kwonlyargs=[], kwonlydefaults=None, annotations={})"
      ]
     },
     "execution_count": 9,
     "metadata": {},
     "output_type": "execute_result"
    }
   ],
   "source": [
    "import inspect\n",
    "\n",
    "\n",
    "def baz(param1, *args, **kwargs):\n",
    "    return param1\n",
    "\n",
    "\n",
    "inspect.getfullargspec(baz)"
   ]
  },
  {
   "cell_type": "code",
   "execution_count": 10,
   "metadata": {},
   "outputs": [
    {
     "data": {
      "text/plain": [
       "['classify_class_attrs',\n",
       " 'cleandoc',\n",
       " 'currentframe',\n",
       " 'findsource',\n",
       " 'formatannotation',\n",
       " 'formatannotationrelativeto',\n",
       " 'formatargspec',\n",
       " 'formatargvalues',\n",
       " 'getabsfile',\n",
       " 'getargs',\n",
       " 'getargspec',\n",
       " 'getargvalues',\n",
       " 'getattr_static',\n",
       " 'getblock',\n",
       " 'getcallargs',\n",
       " 'getclasstree',\n",
       " 'getclosurevars',\n",
       " 'getcomments',\n",
       " 'getcoroutinelocals',\n",
       " 'getcoroutinestate',\n",
       " 'getdoc',\n",
       " 'getfile',\n",
       " 'getframeinfo',\n",
       " 'getfullargspec',\n",
       " 'getgeneratorlocals',\n",
       " 'getgeneratorstate',\n",
       " 'getinnerframes',\n",
       " 'getlineno',\n",
       " 'getmembers',\n",
       " 'getmodule',\n",
       " 'getmodulename',\n",
       " 'getmro',\n",
       " 'getouterframes',\n",
       " 'getsource',\n",
       " 'getsourcefile',\n",
       " 'getsourcelines',\n",
       " 'indentsize',\n",
       " 'isabstract',\n",
       " 'isasyncgen',\n",
       " 'isasyncgenfunction',\n",
       " 'isawaitable',\n",
       " 'isbuiltin',\n",
       " 'isclass',\n",
       " 'iscode',\n",
       " 'iscoroutine',\n",
       " 'iscoroutinefunction',\n",
       " 'isdatadescriptor',\n",
       " 'isframe',\n",
       " 'isfunction',\n",
       " 'isgenerator',\n",
       " 'isgeneratorfunction',\n",
       " 'isgetsetdescriptor',\n",
       " 'ismemberdescriptor',\n",
       " 'ismethod',\n",
       " 'ismethoddescriptor',\n",
       " 'ismodule',\n",
       " 'isroutine',\n",
       " 'istraceback',\n",
       " 'namedtuple',\n",
       " 'signature',\n",
       " 'stack',\n",
       " 'trace',\n",
       " 'unwrap',\n",
       " 'walktree']"
      ]
     },
     "execution_count": 10,
     "metadata": {},
     "output_type": "execute_result"
    }
   ],
   "source": [
    "[fun_name for fun_name, fun in inspect.getmembers(inspect, inspect.isfunction) if not fun_name.startswith('_')]"
   ]
  },
  {
   "cell_type": "code",
   "execution_count": null,
   "metadata": {},
   "outputs": [],
   "source": []
  }
 ],
 "metadata": {
  "kernelspec": {
   "display_name": "Python 3",
   "language": "python",
   "name": "python3"
  },
  "language_info": {
   "codemirror_mode": {
    "name": "ipython",
    "version": 3
   },
   "file_extension": ".py",
   "mimetype": "text/x-python",
   "name": "python",
   "nbconvert_exporter": "python",
   "pygments_lexer": "ipython3",
   "version": "3.7.3"
  }
 },
 "nbformat": 4,
 "nbformat_minor": 2
}
