{
 "cells": [
  {
   "cell_type": "markdown",
   "metadata": {},
   "source": [
    "# decorators\n",
    "\n",
    "A decorator is a function that takes a function and does something \"special\" with it. This is usefull for limiting complexity but still applying reusable functionality"
   ]
  },
  {
   "cell_type": "code",
   "execution_count": 12,
   "metadata": {},
   "outputs": [],
   "source": [
    "import logging\n",
    "\n",
    "\n",
    "def logged_exception(fun):\n",
    "    \"\"\"\n",
    "    this executes the function and logs the exception if any\n",
    "    note that this implementation suppresses the effect of the exception\n",
    "    you could choose to re-raise\n",
    "    \"\"\"\n",
    "\n",
    "    def wrapped(*args, **kwargs):\n",
    "        try:\n",
    "            return fun(*args, **kwargs)\n",
    "        except Exception:\n",
    "            logging.exception('im logging an exception')\n",
    "\n",
    "    return wrapped"
   ]
  },
  {
   "cell_type": "code",
   "execution_count": 13,
   "metadata": {},
   "outputs": [
    {
     "name": "stderr",
     "output_type": "stream",
     "text": [
      "ERROR:root:im logging an exception\n",
      "Traceback (most recent call last):\n",
      "  File \"<ipython-input-12-ec34afc23e89>\", line 14, in wrapped\n",
      "    return fun(*args, **kwargs)\n",
      "  File \"<ipython-input-13-9de59da4587c>\", line 3, in div_by_zero\n",
      "    return inp / 0\n",
      "ZeroDivisionError: division by zero\n"
     ]
    },
    {
     "name": "stdout",
     "output_type": "stream",
     "text": [
      "im executing div_by_zero\n"
     ]
    }
   ],
   "source": [
    "@logged_exception\n",
    "def div_by_zero(inp):\n",
    "    return inp / 0\n",
    "\n",
    "div_by_zero(1)"
   ]
  },
  {
   "cell_type": "markdown",
   "metadata": {},
   "source": [
    "## class based\n",
    "\n",
    "A decorator is simply a callable (a function) that takes a callable and returns a callable. We can make an object callable by implementing `__call__` \n",
    "\n",
    "A class based decorator makes it easy to pass parameters to the decorator"
   ]
  },
  {
   "cell_type": "code",
   "execution_count": 16,
   "metadata": {},
   "outputs": [],
   "source": [
    "\n",
    "class logged_exception2:\n",
    "\n",
    "    def __init__(self, some_arg):\n",
    "        # some_arg is the parameter to @logged_exception2\n",
    "        self.some_arg = some_arg\n",
    "\n",
    "    def __call__(self, fun, *args, **kwargs):\n",
    "\n",
    "        def wrapped(*args, **kwargs):\n",
    "            try:\n",
    "                print(fun)\n",
    "                return fun(*args, **kwargs)\n",
    "            except Exception:\n",
    "                if self.some_arg:\n",
    "                    logging.exception('im logging an exception !!!!!!!')\n",
    "\n",
    "        return wrapped\n"
   ]
  },
  {
   "cell_type": "code",
   "execution_count": 17,
   "metadata": {},
   "outputs": [],
   "source": [
    "@logged_exception2(True)\n",
    "def div_by_zero2(inp):\n",
    "    \"\"\"\n",
    "    div_by_zero2 docstring\n",
    "    \"\"\"\n",
    "    return inp / 0"
   ]
  },
  {
   "cell_type": "code",
   "execution_count": 18,
   "metadata": {},
   "outputs": [
    {
     "name": "stderr",
     "output_type": "stream",
     "text": [
      "ERROR:root:im logging an exception !!!!!!!\n",
      "Traceback (most recent call last):\n",
      "  File \"<ipython-input-16-97623896f017>\", line 13, in wrapped\n",
      "    return fun(*args, **kwargs)\n",
      "  File \"<ipython-input-17-ef46e4eeae12>\", line 6, in div_by_zero2\n",
      "    return inp / 0\n",
      "ZeroDivisionError: division by zero\n"
     ]
    },
    {
     "name": "stdout",
     "output_type": "stream",
     "text": [
      "<function div_by_zero2 at 0x10fd980d0>\n"
     ]
    }
   ],
   "source": [
    "div_by_zero2(1)"
   ]
  },
  {
   "cell_type": "markdown",
   "metadata": {},
   "source": [
    "## functools wraps\n",
    "\n",
    "functools wraps makes sore the metadata about your function remains intact. Eg: function name or doc strings"
   ]
  },
  {
   "cell_type": "code",
   "execution_count": 15,
   "metadata": {},
   "outputs": [],
   "source": [
    "from functools import wraps\n",
    "\n",
    "def logged_exception(fun):\n",
    "    \n",
    "    @wraps(fun)\n",
    "    def wrapped(*args, **kwargs):\n",
    "        try:\n",
    "            return fun(*args, **kwargs)\n",
    "        except (IoError, ValueError): #Exception:\n",
    "            logging.exception('im logging an exception')\n",
    "        except Exception:\n",
    "            pass\n",
    "            \n",
    "    return wrapped"
   ]
  },
  {
   "cell_type": "code",
   "execution_count": 16,
   "metadata": {},
   "outputs": [
    {
     "name": "stderr",
     "output_type": "stream",
     "text": [
      "ERROR:root:im logging an exception\n",
      "Traceback (most recent call last):\n",
      "  File \"<ipython-input-15-a1b01501c558>\", line 8, in wrapped\n",
      "    return fun(*args, **kwargs)\n",
      "  File \"<ipython-input-16-77939e1a1960>\", line 6, in div_by_zero\n",
      "    return inp / 0\n",
      "ZeroDivisionError: division by zero\n"
     ]
    }
   ],
   "source": [
    "@logged_exception\n",
    "def div_by_zero(inp):\n",
    "    \"\"\"\n",
    "    My docstring\n",
    "    \"\"\"\n",
    "    return inp / 0\n",
    "\n",
    "div_by_zero(1)"
   ]
  },
  {
   "cell_type": "code",
   "execution_count": 17,
   "metadata": {},
   "outputs": [
    {
     "name": "stdout",
     "output_type": "stream",
     "text": [
      "None\n",
      "wrapped\n"
     ]
    }
   ],
   "source": [
    "print(div_by_zero2.__doc__)\n",
    "print(div_by_zero2.__name__)"
   ]
  },
  {
   "cell_type": "code",
   "execution_count": 18,
   "metadata": {},
   "outputs": [
    {
     "name": "stdout",
     "output_type": "stream",
     "text": [
      "\n",
      "    My docstring\n",
      "    \n",
      "div_by_zero\n"
     ]
    }
   ],
   "source": [
    "print(div_by_zero.__doc__)\n",
    "print(div_by_zero.__name__)"
   ]
  },
  {
   "cell_type": "code",
   "execution_count": null,
   "metadata": {},
   "outputs": [],
   "source": []
  }
 ],
 "metadata": {
  "kernelspec": {
   "display_name": "Python 3",
   "language": "python",
   "name": "python3"
  },
  "language_info": {
   "codemirror_mode": {
    "name": "ipython",
    "version": 3
   },
   "file_extension": ".py",
   "mimetype": "text/x-python",
   "name": "python",
   "nbconvert_exporter": "python",
   "pygments_lexer": "ipython3",
   "version": "3.7.3"
  }
 },
 "nbformat": 4,
 "nbformat_minor": 2
}
