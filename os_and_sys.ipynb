{
 "cells": [
  {
   "cell_type": "markdown",
   "metadata": {},
   "source": [
    "# os and sys"
   ]
  },
  {
   "cell_type": "code",
   "execution_count": 9,
   "metadata": {},
   "outputs": [
    {
     "data": {
      "text/plain": [
       "'Darwin'"
      ]
     },
     "execution_count": 9,
     "metadata": {},
     "output_type": "execute_result"
    }
   ],
   "source": [
    "import platform\n",
    "platform.system()"
   ]
  },
  {
   "cell_type": "code",
   "execution_count": 10,
   "metadata": {},
   "outputs": [
    {
     "name": "stdout",
     "output_type": "stream",
     "text": [
      "{'distroName': '10.14.4', 'distroVersionID': ('', '', ''), 'distroVersionName': 'x86_64'}\n"
     ]
    }
   ],
   "source": [
    "import sys\n",
    "\n",
    "IS_LINUX = sys.platform.startswith('linux')\n",
    "IS_DARWIN = sys.platform.startswith('darwin')\n",
    "IS_WIN = sys.platform.startswith('win')\n",
    "\n",
    "if IS_LINUX:\n",
    "    details = platform.linux_distribution()\n",
    "elif IS_DARWIN:\n",
    "    details = platform.mac_ver()\n",
    "elif IS_WIN:\n",
    "    details = platform.win32_ver()\n",
    "\n",
    "print({\n",
    "    'distroName': details[0],\n",
    "    'distroVersionID': details[1],\n",
    "    'distroVersionName': details[2]\n",
    "})"
   ]
  },
  {
   "cell_type": "markdown",
   "metadata": {},
   "source": [
    "## print to file "
   ]
  },
  {
   "cell_type": "code",
   "execution_count": 2,
   "metadata": {},
   "outputs": [
    {
     "name": "stderr",
     "output_type": "stream",
     "text": [
      "hello error\n"
     ]
    }
   ],
   "source": [
    "print('hello error', file=sys.stderr)"
   ]
  },
  {
   "cell_type": "markdown",
   "metadata": {},
   "source": [
    "## abspath"
   ]
  },
  {
   "cell_type": "code",
   "execution_count": 6,
   "metadata": {},
   "outputs": [
    {
     "data": {
      "text/plain": [
       "'/Users/sjuuljanssen/workspace/python_tips_n_tricks/sample.txt'"
      ]
     },
     "execution_count": 6,
     "metadata": {},
     "output_type": "execute_result"
    }
   ],
   "source": [
    "sample_fl = os.path.abspath('sample.txt')\n",
    "sample_fl"
   ]
  },
  {
   "cell_type": "markdown",
   "metadata": {},
   "source": [
    "## file/dir exists?"
   ]
  },
  {
   "cell_type": "code",
   "execution_count": 2,
   "metadata": {},
   "outputs": [
    {
     "ename": "NameError",
     "evalue": "name 'sample_fl' is not defined",
     "output_type": "error",
     "traceback": [
      "\u001b[0;31m---------------------------------------------------------------------------\u001b[0m",
      "\u001b[0;31mNameError\u001b[0m                                 Traceback (most recent call last)",
      "\u001b[0;32m<ipython-input-2-3e1756abbc7b>\u001b[0m in \u001b[0;36m<module>\u001b[0;34m\u001b[0m\n\u001b[1;32m      1\u001b[0m \u001b[0;32mimport\u001b[0m \u001b[0mos\u001b[0m\u001b[0;34m\u001b[0m\u001b[0;34m\u001b[0m\u001b[0m\n\u001b[0;32m----> 2\u001b[0;31m \u001b[0mos\u001b[0m\u001b[0;34m.\u001b[0m\u001b[0mpath\u001b[0m\u001b[0;34m.\u001b[0m\u001b[0mexists\u001b[0m\u001b[0;34m(\u001b[0m\u001b[0msample_fl\u001b[0m\u001b[0;34m)\u001b[0m\u001b[0;34m\u001b[0m\u001b[0;34m\u001b[0m\u001b[0m\n\u001b[0m",
      "\u001b[0;31mNameError\u001b[0m: name 'sample_fl' is not defined"
     ]
    }
   ],
   "source": [
    "import os\n",
    "os.path.exists(sample_fl)"
   ]
  },
  {
   "cell_type": "code",
   "execution_count": 8,
   "metadata": {},
   "outputs": [
    {
     "data": {
      "text/plain": [
       "True"
      ]
     },
     "execution_count": 8,
     "metadata": {},
     "output_type": "execute_result"
    }
   ],
   "source": [
    "os.path.isfile(sample_fl)"
   ]
  },
  {
   "cell_type": "code",
   "execution_count": 9,
   "metadata": {},
   "outputs": [
    {
     "data": {
      "text/plain": [
       "False"
      ]
     },
     "execution_count": 9,
     "metadata": {},
     "output_type": "execute_result"
    }
   ],
   "source": [
    "os.path.isdir(sample_fl)"
   ]
  },
  {
   "cell_type": "markdown",
   "metadata": {},
   "source": [
    "## path"
   ]
  },
  {
   "cell_type": "code",
   "execution_count": 17,
   "metadata": {},
   "outputs": [
    {
     "data": {
      "text/plain": [
       "['/Users/sjuuljanssen/workspace/python_tips_n_tricks',\n",
       " '/Users/sjuuljanssen/.local/share/virtualenvs/python_tips_n_tricks-aPH4icQ0/lib/python37.zip',\n",
       " '/Users/sjuuljanssen/.local/share/virtualenvs/python_tips_n_tricks-aPH4icQ0/lib/python3.7',\n",
       " '/Users/sjuuljanssen/.local/share/virtualenvs/python_tips_n_tricks-aPH4icQ0/lib/python3.7/lib-dynload',\n",
       " '/usr/local/Cellar/python/3.7.3/Frameworks/Python.framework/Versions/3.7/lib/python3.7',\n",
       " '',\n",
       " '/Users/sjuuljanssen/.local/share/virtualenvs/python_tips_n_tricks-aPH4icQ0/lib/python3.7/site-packages',\n",
       " '/Users/sjuuljanssen/.local/share/virtualenvs/python_tips_n_tricks-aPH4icQ0/lib/python3.7/site-packages/IPython/extensions',\n",
       " '/Users/sjuuljanssen/.ipython']"
      ]
     },
     "execution_count": 17,
     "metadata": {},
     "output_type": "execute_result"
    }
   ],
   "source": [
    "import sys\n",
    "sys.path"
   ]
  },
  {
   "cell_type": "code",
   "execution_count": 18,
   "metadata": {},
   "outputs": [],
   "source": [
    "sys.path.insert(0, '/tmp/something/')"
   ]
  },
  {
   "cell_type": "code",
   "execution_count": 19,
   "metadata": {},
   "outputs": [
    {
     "data": {
      "text/plain": [
       "['/tmp/something/',\n",
       " '/Users/sjuuljanssen/workspace/python_tips_n_tricks',\n",
       " '/Users/sjuuljanssen/.local/share/virtualenvs/python_tips_n_tricks-aPH4icQ0/lib/python37.zip',\n",
       " '/Users/sjuuljanssen/.local/share/virtualenvs/python_tips_n_tricks-aPH4icQ0/lib/python3.7',\n",
       " '/Users/sjuuljanssen/.local/share/virtualenvs/python_tips_n_tricks-aPH4icQ0/lib/python3.7/lib-dynload',\n",
       " '/usr/local/Cellar/python/3.7.3/Frameworks/Python.framework/Versions/3.7/lib/python3.7',\n",
       " '',\n",
       " '/Users/sjuuljanssen/.local/share/virtualenvs/python_tips_n_tricks-aPH4icQ0/lib/python3.7/site-packages',\n",
       " '/Users/sjuuljanssen/.local/share/virtualenvs/python_tips_n_tricks-aPH4icQ0/lib/python3.7/site-packages/IPython/extensions',\n",
       " '/Users/sjuuljanssen/.ipython']"
      ]
     },
     "execution_count": 19,
     "metadata": {},
     "output_type": "execute_result"
    }
   ],
   "source": [
    "sys.path"
   ]
  },
  {
   "cell_type": "code",
   "execution_count": 20,
   "metadata": {},
   "outputs": [
    {
     "data": {
      "text/plain": [
       "'/Users/sjuuljanssen/workspace/python_tips_n_tricks/subdir'"
      ]
     },
     "execution_count": 20,
     "metadata": {},
     "output_type": "execute_result"
    }
   ],
   "source": [
    "os.path.join(os.getcwd(), 'subdir')"
   ]
  },
  {
   "cell_type": "markdown",
   "metadata": {},
   "source": [
    "## cwd"
   ]
  },
  {
   "cell_type": "code",
   "execution_count": 21,
   "metadata": {},
   "outputs": [
    {
     "data": {
      "text/plain": [
       "'/Users/sjuuljanssen/workspace/python_tips_n_tricks'"
      ]
     },
     "execution_count": 21,
     "metadata": {},
     "output_type": "execute_result"
    }
   ],
   "source": [
    "os.getcwd()"
   ]
  },
  {
   "cell_type": "markdown",
   "metadata": {},
   "source": [
    "## pid"
   ]
  },
  {
   "cell_type": "code",
   "execution_count": 3,
   "metadata": {},
   "outputs": [
    {
     "data": {
      "text/plain": [
       "16497"
      ]
     },
     "execution_count": 3,
     "metadata": {},
     "output_type": "execute_result"
    }
   ],
   "source": [
    "os.getpid()"
   ]
  },
  {
   "cell_type": "markdown",
   "metadata": {},
   "source": [
    "## environment"
   ]
  },
  {
   "cell_type": "code",
   "execution_count": 23,
   "metadata": {},
   "outputs": [
    {
     "data": {
      "text/plain": [
       "environ{'__INTELLIJ_COMMAND_HISTFILE__': '/Users/sjuuljanssen/Library/Preferences/PyCharmCE2019.1/terminal/history/history-3',\n",
       "        'HOME': '/Users/sjuuljanssen',\n",
       "        'ZDOTDIR': '',\n",
       "        '__CF_USER_TEXT_ENCODING': '0x1F5:0x0:0x0',\n",
       "        'LOGIN_SHELL': '1',\n",
       "        'PATH': '/Users/sjuuljanssen/.local/share/virtualenvs/python_tips_n_tricks-aPH4icQ0/bin:/Users/sjuuljanssen/.local/share/virtualenvs/python_tips_n_tricks-aPH4icQ0/bin:/usr/local/opt/icu4c/sbin:/usr/local/opt/icu4c/bin:/Users/sjuuljanssen/Library/Python/3.7/bin:/Applications/Postgres.app/Contents/Versions/9.5/bin:/usr/local/Cellar/openvpn/2.4.6/sbin:/usr/local/bin:/usr/bin:/bin:/usr/sbin:/sbin:/usr/local/opt/icu4c/sbin:/usr/local/opt/icu4c/bin:/Users/sjuuljanssen/Library/Python/3.7/bin:/Applications/Postgres.app/Contents/Versions/9.5/bin:/usr/local/Cellar/openvpn/2.4.6/sbin',\n",
       "        'USER': 'sjuuljanssen',\n",
       "        'SSH_AUTH_SOCK': '/private/tmp/com.apple.launchd.Ec7RCS42ld/Listeners',\n",
       "        'TMPDIR': '/var/folders/pc/c3hkxqls52z2pbhk59q7w8vm0000gn/T/',\n",
       "        'SHELL': '/bin/zsh',\n",
       "        'LOGNAME': 'sjuuljanssen',\n",
       "        'XPC_SERVICE_NAME': '0',\n",
       "        'LC_CTYPE': 'en_NL.UTF-8',\n",
       "        'Apple_PubSub_Socket_Render': '/private/tmp/com.apple.launchd.7aK8EuxzaG/Render',\n",
       "        'XPC_FLAGS': '0x0',\n",
       "        'TERM': 'xterm-color',\n",
       "        'TERMINAL_EMULATOR': 'JetBrains-JediTerm',\n",
       "        'SHLVL': '1',\n",
       "        'PWD': '/Users/sjuuljanssen/workspace/python_tips_n_tricks',\n",
       "        'OLDPWD': '/Users/sjuuljanssen/workspace/python_tips_n_tricks',\n",
       "        'ZSH': '/Users/sjuuljanssen/.oh-my-zsh',\n",
       "        'PAGER': 'cat',\n",
       "        'LESS': '-R',\n",
       "        'LSCOLORS': 'Gxfxcxdxbxegedabagacad',\n",
       "        'LC_ALL': 'en_US.UTF-8',\n",
       "        'LANG': 'en_US.UTF-8',\n",
       "        'ICU_VERSION': '64.2',\n",
       "        'MEDIA': '/Users/sjuuljanssen/media',\n",
       "        'VIRTUAL_ENV': '/Users/sjuuljanssen/.local/share/virtualenvs/python_tips_n_tricks-aPH4icQ0',\n",
       "        'PS1': '(python_tips_n_tricks) ${ret_status} %{$fg[cyan]%}%c%{$reset_color%} $(git_prompt_info)',\n",
       "        '_': '/Users/sjuuljanssen/.local/share/virtualenvs/python_tips_n_tricks-aPH4icQ0/bin/jupyter',\n",
       "        'JPY_PARENT_PID': '84961',\n",
       "        'CLICOLOR': '1',\n",
       "        'GIT_PAGER': 'cat',\n",
       "        'MPLBACKEND': 'module://ipykernel.pylab.backend_inline'}"
      ]
     },
     "execution_count": 23,
     "metadata": {},
     "output_type": "execute_result"
    }
   ],
   "source": [
    "os.environ"
   ]
  },
  {
   "cell_type": "code",
   "execution_count": 24,
   "metadata": {},
   "outputs": [
    {
     "data": {
      "text/plain": [
       "'/'"
      ]
     },
     "execution_count": 24,
     "metadata": {},
     "output_type": "execute_result"
    }
   ],
   "source": [
    "os.sep"
   ]
  },
  {
   "cell_type": "code",
   "execution_count": 25,
   "metadata": {},
   "outputs": [
    {
     "data": {
      "text/plain": [
       "':'"
      ]
     },
     "execution_count": 25,
     "metadata": {},
     "output_type": "execute_result"
    }
   ],
   "source": [
    "os.pathsep"
   ]
  },
  {
   "cell_type": "code",
   "execution_count": null,
   "metadata": {},
   "outputs": [],
   "source": []
  }
 ],
 "metadata": {
  "kernelspec": {
   "display_name": "Python 3",
   "language": "python",
   "name": "python3"
  },
  "language_info": {
   "codemirror_mode": {
    "name": "ipython",
    "version": 3
   },
   "file_extension": ".py",
   "mimetype": "text/x-python",
   "name": "python",
   "nbconvert_exporter": "python",
   "pygments_lexer": "ipython3",
   "version": "3.7.3"
  }
 },
 "nbformat": 4,
 "nbformat_minor": 2
}
